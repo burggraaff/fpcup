{
 "cells": [
  {
   "cell_type": "markdown",
   "id": "decb3158-7879-41a5-961b-6146fb51790d",
   "metadata": {},
   "source": [
    "# FPCUP Demo\n",
    "Author: Olivier Burggraaff, Universiteit Leiden, 2024\n",
    "\n",
    "This notebook demonstrates some of the functionality of the Python package developed within the FPCUP project."
   ]
  },
  {
   "cell_type": "markdown",
   "id": "e16a3d0d-c696-4059-81b1-2ff7d6309e91",
   "metadata": {},
   "source": [
    "## Python / Jupyter instructions\n",
    "To do:\n",
    "Instructions on using Python.\n",
    "Instructions on using Jupyter.\n",
    "Instructions on installing FPCUP package."
   ]
  },
  {
   "cell_type": "code",
   "execution_count": null,
   "id": "c9bb9801-2b82-4a6a-8c03-30bfef83483e",
   "metadata": {},
   "outputs": [],
   "source": [
    "import fpcup"
   ]
  },
  {
   "cell_type": "markdown",
   "id": "0864bc8d-9c2c-4653-8812-3922c27d32dd",
   "metadata": {},
   "source": [
    "## Data"
   ]
  },
  {
   "cell_type": "markdown",
   "id": "5c99ce69-ba3a-4fb9-a09c-33a1507a2697",
   "metadata": {},
   "source": [
    "### BRP\n",
    "You can import data from the 2019–2024 BRPs (Basisregistratie Percelen) as follows:"
   ]
  },
  {
   "cell_type": "code",
   "execution_count": null,
   "id": "df38ed43-9938-416a-bc29-b258b6c07a76",
   "metadata": {},
   "outputs": [],
   "source": [
    "# Setup\n",
    "brp_filename = fpcup.io.Path(\"data/brp/brp2020.gpkg\")\n",
    "brp = fpcup.io.read_geodataframe(brp_filename)\n",
    "\n",
    "# Example output\n",
    "brp"
   ]
  },
  {
   "cell_type": "markdown",
   "id": "92c7947e-64eb-4443-8ae2-d40e0daa53e7",
   "metadata": {},
   "source": [
    "The BRP contains geographical data, which we can use to draw figures.\n",
    "For example, the following cell will generate a figure showing the locations of all plots where barley, maize, sorghum, soy, or wheat was grown in the selected year."
   ]
  },
  {
   "cell_type": "code",
   "execution_count": null,
   "id": "4cb96b39-9694-4110-97e1-bbaff35a51bb",
   "metadata": {},
   "outputs": [],
   "source": [
    "# Plot\n",
    "fpcup.plotting.brp_map(brp, column=\"crop_species\", title=\"Selected crop types\", colour_dict=fpcup.plotting.brp_crops_colours)"
   ]
  },
  {
   "cell_type": "markdown",
   "id": "0ea3e21b-2ac6-4abb-8ff3-7535acaaa888",
   "metadata": {},
   "source": [
    "Using the `province` keyword argument, we can also select only one area, for example:"
   ]
  },
  {
   "cell_type": "code",
   "execution_count": null,
   "id": "5c9d1244-e5d7-41cb-9e64-327270dd0b59",
   "metadata": {},
   "outputs": [],
   "source": [
    "# Plot\n",
    "province = fpcup.geo.process_input_province(\"Zuid-Holland\") \n",
    "fpcup.plotting.brp_map(brp, province=province, column=\"crop_species\", title=\"Selected crop types\", colour_dict=fpcup.plotting.brp_crops_colours)"
   ]
  },
  {
   "cell_type": "markdown",
   "id": "950d6849-4a6c-444f-8c3d-b125f478fcd9",
   "metadata": {},
   "source": [
    "### Running WOFOST\n",
    "WOFOST (WOrld FOod STudies) is a crop model developed at Wageningen University & Research.\n",
    "The FPCUP package provides an easy-to-use interface for running simulations in WOFOST (using its PCSE implementation)."
   ]
  },
  {
   "cell_type": "markdown",
   "id": "f538daaf-37c8-4560-abd9-2aadd98b53dd",
   "metadata": {},
   "source": [
    "### WOFOST ensembles"
   ]
  },
  {
   "cell_type": "code",
   "execution_count": null,
   "id": "00c1578d-c3c0-4063-b5d6-9243410b1edd",
   "metadata": {},
   "outputs": [],
   "source": []
  }
 ],
 "metadata": {
  "kernelspec": {
   "display_name": "Python 3 (ipykernel)",
   "language": "python",
   "name": "python3"
  },
  "language_info": {
   "codemirror_mode": {
    "name": "ipython",
    "version": 3
   },
   "file_extension": ".py",
   "mimetype": "text/x-python",
   "name": "python",
   "nbconvert_exporter": "python",
   "pygments_lexer": "ipython3",
   "version": "3.11.6"
  }
 },
 "nbformat": 4,
 "nbformat_minor": 5
}
