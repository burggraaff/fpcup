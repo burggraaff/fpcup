{
 "cells": [
  {
   "cell_type": "markdown",
   "id": "decb3158-7879-41a5-961b-6146fb51790d",
   "metadata": {},
   "source": [
    "# FPCUP Demo\n",
    "Author: Olivier Burggraaff, Universiteit Leiden, 2024\n",
    "\n",
    "This notebook demonstrates some of the functionality of the Python package developed within the FPCUP project."
   ]
  },
  {
   "cell_type": "markdown",
   "id": "e16a3d0d-c696-4059-81b1-2ff7d6309e91",
   "metadata": {},
   "source": [
    "## Installation and setup\n",
    "This section will briefly explain how to use Jupyter notebooks and how to install the FPCUP package.\n",
    "Experienced users can skip ahead."
   ]
  },
  {
   "cell_type": "markdown",
   "id": "b6a09cc2-b5b4-4bdf-bce6-459379ef4549",
   "metadata": {},
   "source": [
    "### Jupyter notebooks\n",
    "To do: Instructions on using Jupyter."
   ]
  },
  {
   "cell_type": "code",
   "execution_count": null,
   "id": "eaaaf286-0af0-4cc9-8929-8b142c711c68",
   "metadata": {},
   "outputs": [],
   "source": [
    "print(\"Hello world\")"
   ]
  },
  {
   "cell_type": "markdown",
   "id": "4ef5eb96-4727-4323-9c0c-58841335e2f0",
   "metadata": {},
   "source": [
    "One of the best features of Jupyter notebooks is the ability to create and plot figures within one interface, allowing for easy testing and customisation without having to fiddle with file formats and the like.\n",
    "The following sections will contain some examples of figures that can be made with the FPCUP package.\n",
    "For now, let's test that everything has been installed properly with a simple plot.\n",
    "Run the following cell; if the output is a plot showing a parabola, you can continue."
   ]
  },
  {
   "cell_type": "code",
   "execution_count": null,
   "id": "740c5fb6-3c7f-4f25-8586-1aee30d2caac",
   "metadata": {},
   "outputs": [],
   "source": [
    "from matplotlib import pyplot as plt\n",
    "import numpy as np\n",
    "x = np.linspace(-10, 10, 1000)  # 1000 points between -10 and 10, inclusive\n",
    "y = x**2\n",
    "plt.plot(x, y)"
   ]
  },
  {
   "cell_type": "markdown",
   "id": "c0be8789-5b2b-4e8d-bb27-9ef0cbfb7eb2",
   "metadata": {},
   "source": [
    "### Setting up FPCUP\n",
    "The easiest way to download the FPCUP package is to clone it from GitHub: https://github.com/burggraaff/fpcup.\n",
    "If you are running this notebook locally, then you have probably already cloned it.\n",
    "\n",
    "Once downloaded, you can install fpcup using the `pip` programme.\n",
    "You can run the following command in your terminal or command prompt:\n",
    "```\n",
    "pip install .\n",
    "```\n",
    "This will install the package and all of its requirements."
   ]
  },
  {
   "cell_type": "markdown",
   "id": "18088483-c266-4f5f-b139-b01f351f1ee4",
   "metadata": {},
   "source": [
    "Try running the following cell to see if the installation worked.\n",
    "\n",
    "If you get an output along the lines of     \n",
    "```<module 'fpcup' from 'file/location/fpcup/fpcup/__init__.py'```    \n",
    "then the installation was successful!"
   ]
  },
  {
   "cell_type": "code",
   "execution_count": null,
   "id": "c9bb9801-2b82-4a6a-8c03-30bfef83483e",
   "metadata": {},
   "outputs": [],
   "source": [
    "import fpcup\n",
    "fpcup"
   ]
  },
  {
   "cell_type": "markdown",
   "id": "0864bc8d-9c2c-4653-8812-3922c27d32dd",
   "metadata": {},
   "source": [
    "## Data"
   ]
  },
  {
   "cell_type": "markdown",
   "id": "5c99ce69-ba3a-4fb9-a09c-33a1507a2697",
   "metadata": {},
   "source": [
    "### BRP\n",
    "You can import data from the 2019–2024 BRPs (Basisregistratie Percelen) as follows:"
   ]
  },
  {
   "cell_type": "code",
   "execution_count": null,
   "id": "df38ed43-9938-416a-bc29-b258b6c07a76",
   "metadata": {},
   "outputs": [],
   "source": [
    "# Setup\n",
    "brp_filename = fpcup.io.Path(\"data/brp/brp2020.gpkg\")\n",
    "brp = fpcup.io.read_geodataframe(brp_filename)\n",
    "\n",
    "# Example output\n",
    "brp"
   ]
  },
  {
   "cell_type": "markdown",
   "id": "92c7947e-64eb-4443-8ae2-d40e0daa53e7",
   "metadata": {},
   "source": [
    "The BRP contains geographical data, which we can use to draw figures.\n",
    "For example, the following cell will generate a figure showing the locations of all plots where barley, maize, sorghum, soy, or wheat was grown in the selected year."
   ]
  },
  {
   "cell_type": "code",
   "execution_count": null,
   "id": "4cb96b39-9694-4110-97e1-bbaff35a51bb",
   "metadata": {},
   "outputs": [],
   "source": [
    "# Plot\n",
    "fpcup.plotting.brp_map(brp, column=\"crop_species\", title=\"Selected crop types\", colour_dict=fpcup.plotting.brp_crops_colours)"
   ]
  },
  {
   "cell_type": "markdown",
   "id": "0ea3e21b-2ac6-4abb-8ff3-7535acaaa888",
   "metadata": {},
   "source": [
    "Using the `province` keyword argument, we can also select only one area, for example:"
   ]
  },
  {
   "cell_type": "code",
   "execution_count": null,
   "id": "5c9d1244-e5d7-41cb-9e64-327270dd0b59",
   "metadata": {},
   "outputs": [],
   "source": [
    "# Plot\n",
    "province = fpcup.geo.process_input_province(\"Zuid-Holland\") \n",
    "fpcup.plotting.brp_map(brp, province=province, column=\"crop_species\", title=\"Selected crop types\", colour_dict=fpcup.plotting.brp_crops_colours)"
   ]
  },
  {
   "cell_type": "markdown",
   "id": "86463a66-876e-4660-8d8c-cdd707f87e80",
   "metadata": {},
   "source": [
    "### Interactive plots with Folium\n",
    "In addition to the static plots shown above, we can also create interactive plots overlaid on OpenStreetMap using the Folium package.\n",
    "To do: Folium implementation in FPCUP. Probably best done with a `folium=True` keyword."
   ]
  },
  {
   "cell_type": "code",
   "execution_count": null,
   "id": "e96ab022-25e7-40c2-8ed0-0967e35f753d",
   "metadata": {},
   "outputs": [],
   "source": [
    "import folium\n",
    "\n",
    "brp = brp.to_crs(\"WGS84\")\n",
    "brp"
   ]
  },
  {
   "cell_type": "markdown",
   "id": "950d6849-4a6c-444f-8c3d-b125f478fcd9",
   "metadata": {},
   "source": [
    "## Running WOFOST simulations\n",
    "WOFOST (WOrld FOod STudies) is a crop model developed at Wageningen University & Research.\n",
    "The FPCUP package provides an easy-to-use interface for running simulations in WOFOST (using its PCSE implementation).\n",
    "\n",
    "In this section, we will look at how to set up a single WOFOST run with pre-determined parameters; how to run an ensemble of WOFOST models to determine uncertainties; and how to run WOFOST for multiple sites."
   ]
  },
  {
   "cell_type": "markdown",
   "id": "9b1e97ec-b8cb-4d72-b475-b29d1db0f542",
   "metadata": {},
   "source": [
    "### Single WOFOST run"
   ]
  },
  {
   "cell_type": "markdown",
   "id": "f538daaf-37c8-4560-abd9-2aadd98b53dd",
   "metadata": {},
   "source": [
    "### WOFOST ensembles"
   ]
  },
  {
   "cell_type": "markdown",
   "id": "dbac85d4-db2f-4bd5-b474-d33058f4d97d",
   "metadata": {},
   "source": [
    "### Running WOFOST at multiple sites"
   ]
  }
 ],
 "metadata": {
  "kernelspec": {
   "display_name": "Python 3 (ipykernel)",
   "language": "python",
   "name": "python3"
  },
  "language_info": {
   "codemirror_mode": {
    "name": "ipython",
    "version": 3
   },
   "file_extension": ".py",
   "mimetype": "text/x-python",
   "name": "python",
   "nbconvert_exporter": "python",
   "pygments_lexer": "ipython3",
   "version": "3.11.6"
  }
 },
 "nbformat": 4,
 "nbformat_minor": 5
}
