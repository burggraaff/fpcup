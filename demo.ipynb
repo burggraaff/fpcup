{
 "cells": [
  {
   "cell_type": "markdown",
   "id": "decb3158-7879-41a5-961b-6146fb51790d",
   "metadata": {},
   "source": [
    "# FPCUP Demo\n",
    "Author: Olivier Burggraaff, Universiteit Leiden, 2024\n",
    "\n",
    "This notebook demonstrates some of the functionality of the Python package developed within the FPCUP project."
   ]
  },
  {
   "cell_type": "markdown",
   "id": "e16a3d0d-c696-4059-81b1-2ff7d6309e91",
   "metadata": {},
   "source": [
    "## Installation and setup\n",
    "This section will briefly explain how to use Jupyter notebooks and how to install the FPCUP package.\n",
    "Experienced users can skip ahead."
   ]
  },
  {
   "cell_type": "markdown",
   "id": "b6a09cc2-b5b4-4bdf-bce6-459379ef4549",
   "metadata": {},
   "source": [
    "### Jupyter notebooks\n",
    "Each block of code or text in this notebook is contained within a \"cell\".\n",
    "To run a code cell, click on the cell to select it, then press Shift + Enter on your keyboard, or click the \"Run\" button in the toolbar at the top.\n",
    "The code will execute, and the the results (text, data tables, visualisations) will be displayed immediately below the cell.\n",
    "You can edit and re-run cells as needed to see updated results. To add a new cell, click the \"+\" button in the toolbar.\n",
    "You can choose between a code cell or a Markdown cell for text, explanations, or equations.\n",
    "Save your progress regularly by clicking the disk icon in the toolbar or by pressing Ctrl + S.\n",
    "This ensures that all your work, including code, outputs, and notes, is preserved."
   ]
  },
  {
   "cell_type": "code",
   "execution_count": null,
   "id": "eaaaf286-0af0-4cc9-8929-8b142c711c68",
   "metadata": {},
   "outputs": [],
   "source": [
    "print(\"Hello world\")"
   ]
  },
  {
   "cell_type": "markdown",
   "id": "4ef5eb96-4727-4323-9c0c-58841335e2f0",
   "metadata": {},
   "source": [
    "One of the best features of Jupyter notebooks is the ability to create and plot figures within one interface, allowing for easy testing and customisation without having to fiddle with file formats and the like.\n",
    "The following sections will contain some examples of figures that can be made with the FPCUP package.\n",
    "For now, let's test that everything has been installed properly with a simple plot.\n",
    "Run the following cell; if the output is a plot showing a parabola, you can continue."
   ]
  },
  {
   "cell_type": "code",
   "execution_count": null,
   "id": "740c5fb6-3c7f-4f25-8586-1aee30d2caac",
   "metadata": {},
   "outputs": [],
   "source": [
    "from matplotlib import pyplot as plt\n",
    "import numpy as np\n",
    "x = np.linspace(-10, 10, 1000)  # 1000 points between -10 and 10, inclusive\n",
    "y = x**2\n",
    "plt.plot(x, y)"
   ]
  },
  {
   "cell_type": "markdown",
   "id": "c0be8789-5b2b-4e8d-bb27-9ef0cbfb7eb2",
   "metadata": {},
   "source": [
    "### Setting up FPCUP\n",
    "The easiest way to download the FPCUP package is to clone it from GitHub: https://github.com/burggraaff/fpcup.\n",
    "If you are running this notebook locally, then you have probably already cloned it.\n",
    "\n",
    "Once downloaded, you can install fpcup using the `pip` programme.\n",
    "You can run the following command in your terminal or command prompt:\n",
    "```\n",
    "pip install .\n",
    "```\n",
    "This will install the package and all of its requirements."
   ]
  },
  {
   "cell_type": "markdown",
   "id": "18088483-c266-4f5f-b139-b01f351f1ee4",
   "metadata": {},
   "source": [
    "Try running the following cell to see if the installation worked.\n",
    "Please note that this may take up to a minute; if you see `[*]` next to the cell, that means it is still running.\n",
    "\n",
    "If you get an output like    \n",
    "```Succesfully imported fpcup version x.y.z from my/file/location/fpcup/__init__.py.```    \n",
    "then the installation was successful!"
   ]
  },
  {
   "cell_type": "code",
   "execution_count": null,
   "id": "c9bb9801-2b82-4a6a-8c03-30bfef83483e",
   "metadata": {},
   "outputs": [],
   "source": [
    "import fpcup\n",
    "fpcup.test()"
   ]
  },
  {
   "cell_type": "markdown",
   "id": "0864bc8d-9c2c-4653-8812-3922c27d32dd",
   "metadata": {},
   "source": [
    "## Data"
   ]
  },
  {
   "cell_type": "markdown",
   "id": "5c99ce69-ba3a-4fb9-a09c-33a1507a2697",
   "metadata": {},
   "source": [
    "### BRP\n",
    "Data from the 2019–2024 BRPs (Basisregistratie Percelen) can be imported as follows:"
   ]
  },
  {
   "cell_type": "code",
   "execution_count": null,
   "id": "df38ed43-9938-416a-bc29-b258b6c07a76",
   "metadata": {},
   "outputs": [],
   "source": [
    "# Setup\n",
    "year = 2020  # Try changing this to a different year\n",
    "brp = fpcup.io.load_brp(year)\n",
    "\n",
    "# Example output\n",
    "brp"
   ]
  },
  {
   "cell_type": "markdown",
   "id": "92c7947e-64eb-4443-8ae2-d40e0daa53e7",
   "metadata": {},
   "source": [
    "The BRP contains geographical data, which we can use to draw figures.\n",
    "For example, the following cell will generate a figure showing the locations of all plots where barley, maize, sorghum, soy, or wheat was grown in the selected year.\n",
    "Please note that this may take up to a minute; if you see `[*]` next to the cell, that means it is still running."
   ]
  },
  {
   "cell_type": "code",
   "execution_count": null,
   "id": "4cb96b39-9694-4110-97e1-bbaff35a51bb",
   "metadata": {},
   "outputs": [],
   "source": [
    "# Plot\n",
    "fpcup.plotting.brp_map_crop(brp)"
   ]
  },
  {
   "cell_type": "markdown",
   "id": "0ea3e21b-2ac6-4abb-8ff3-7535acaaa888",
   "metadata": {},
   "source": [
    "Using the `province` keyword argument, we can also select only one area, as shown below.\n",
    "Try changing `\"Zuid-Holland\"` to different province names."
   ]
  },
  {
   "cell_type": "code",
   "execution_count": null,
   "id": "5c9d1244-e5d7-41cb-9e64-327270dd0b59",
   "metadata": {},
   "outputs": [],
   "source": [
    "# Plot\n",
    "province = fpcup.geo.process_input_province(\"Zuid-Holland\") \n",
    "fpcup.plotting.brp_map_crop(brp, province=province)"
   ]
  },
  {
   "cell_type": "markdown",
   "id": "86463a66-876e-4660-8d8c-cdd707f87e80",
   "metadata": {},
   "source": [
    "#### Interactive plots with Folium\n",
    "In addition to the static plots shown above, we can also create interactive plots overlaid on OpenStreetMap using the Folium package."
   ]
  },
  {
   "cell_type": "code",
   "execution_count": null,
   "id": "e96ab022-25e7-40c2-8ed0-0967e35f753d",
   "metadata": {},
   "outputs": [],
   "source": [
    "# Interactive plot\n",
    "province = fpcup.geo.process_input_province(\"Zuid-Holland\") \n",
    "fpcup.plotting.brp_map_crop_interactive(brp, province=province)"
   ]
  },
  {
   "cell_type": "markdown",
   "id": "950d6849-4a6c-444f-8c3d-b125f478fcd9",
   "metadata": {},
   "source": [
    "## Running WOFOST simulations\n",
    "WOFOST (WOrld FOod STudies) is a crop model developed at Wageningen University & Research.\n",
    "The FPCUP package provides an easy-to-use interface for running simulations in WOFOST (using its PCSE implementation).\n",
    "\n",
    "In this section, we will look at how to set up a single WOFOST run with pre-determined parameters; how to run an ensemble of WOFOST models to determine uncertainties; and how to run WOFOST for multiple sites."
   ]
  },
  {
   "cell_type": "markdown",
   "id": "9b1e97ec-b8cb-4d72-b475-b29d1db0f542",
   "metadata": {},
   "source": [
    "### Single WOFOST run\n",
    "First, we will set up a single WOFOST run using one set of parameters.\n",
    "We begin by defining the site location, soil type, management calendar (sowing date, harvest type)."
   ]
  },
  {
   "cell_type": "code",
   "execution_count": null,
   "id": "6740db5d-f8d8-4bb4-a7a8-76cd7fdfc2bc",
   "metadata": {},
   "outputs": [],
   "source": [
    "crop = fpcup.crop.crops[\"barley\"]\n",
    "soildata = fpcup.soil.soil_types[\"ec1\"]\n",
    "\n",
    "year = 2022\n",
    "agromanagement = crop.agromanagement_first_sowingdate(year)  # First sowing date of the year\n",
    "\n",
    "latitude = 52.1650\n",
    "longitude = 4.4642"
   ]
  },
  {
   "cell_type": "markdown",
   "id": "40804cf8-abcf-4c21-897c-9f6fa7d525c7",
   "metadata": {},
   "source": [
    "We can use the NASA Power database to retrieve weather data.\n",
    "The data are downloaded from the internet and stored on your computer, meaning it may take a while the first time per site but will be much faster afterwards."
   ]
  },
  {
   "cell_type": "code",
   "execution_count": null,
   "id": "515fcc43-3257-41a1-9931-c1fb099e0446",
   "metadata": {},
   "outputs": [],
   "source": [
    "weatherdata = fpcup.weather.load_weather_data_NASAPower((latitude, longitude))"
   ]
  },
  {
   "cell_type": "markdown",
   "id": "b91d8fe7-e487-4a04-9722-d28d4aab5277",
   "metadata": {},
   "source": [
    "Finally, we combine the run data and run the model:"
   ]
  },
  {
   "cell_type": "code",
   "execution_count": null,
   "id": "0ec0f10c-6589-4f5d-8d03-044a51371e40",
   "metadata": {},
   "outputs": [],
   "source": [
    "rundata = fpcup.model.RunData(soildata=soildata, weatherdata=weatherdata, agromanagement=agromanagement, latitude=latitude, longitude=longitude)\n",
    "output = fpcup.model.run_pcse_single(rundata)"
   ]
  },
  {
   "cell_type": "markdown",
   "id": "df81d333-776e-4b78-8af9-6d7e25e70408",
   "metadata": {},
   "source": [
    "We can examine the model output.\n",
    "First, we can tabulate the time series, i.e. the values of different outputs over time.\n",
    "Note that some values may be missing (NaN), for example for dates prior to the sowing date."
   ]
  },
  {
   "cell_type": "code",
   "execution_count": null,
   "id": "c87c097c-915f-4854-835b-44fe7a4baeb4",
   "metadata": {},
   "outputs": [],
   "source": [
    "output.timeseries"
   ]
  },
  {
   "cell_type": "markdown",
   "id": "96dbf3f6-739b-4358-8135-a6ca37b2f239",
   "metadata": {},
   "source": [
    "We can also look at a summary describing the crop state at the end of the run.\n",
    "This table will only have one row because we only did one run; this type of output will become more informative later, when we do larger ensemble runs."
   ]
  },
  {
   "cell_type": "code",
   "execution_count": null,
   "id": "ab79c81d-c0af-44f0-b3e0-02cbd4c84a1a",
   "metadata": {},
   "outputs": [],
   "source": [
    "output.summary"
   ]
  },
  {
   "cell_type": "markdown",
   "id": "b270e260-d77c-4a00-8386-ce18467ce8c9",
   "metadata": {},
   "source": [
    "#### Using the BRP\n",
    "We can also use the BRP to retrieve coordinates and crop data automatically for one plot."
   ]
  },
  {
   "cell_type": "code",
   "execution_count": null,
   "id": "f4074a32-17bf-4a06-8d59-191dc089c43e",
   "metadata": {},
   "outputs": [],
   "source": [
    "# Setup BRP\n",
    "year = 2020\n",
    "brp = fpcup.io.load_brp(year)\n",
    "index = 1  # Change this to any index in the BRP table. Try some values and see what happens!\n",
    "\n",
    "# Select plot\n",
    "brp_plot = brp.iloc[index]\n",
    "brp_plot"
   ]
  },
  {
   "cell_type": "code",
   "execution_count": null,
   "id": "984b54dd-8e81-42ed-a736-70b366389e1b",
   "metadata": {},
   "outputs": [],
   "source": [
    "# Setup WOFOST\n",
    "crop_name = brp_plot[\"crop\"]\n",
    "crop = fpcup.crop.select_crop(crop_name)\n",
    "agromanagement = crop.agromanagement_first_sowingdate(year)  # First sowing date of the year\n",
    "\n",
    "soildata = fpcup.soil.soil_types[\"ec1\"]  # In the future, it will be possible to retrieve the soil type specific to this plot\n",
    "\n",
    "coordinates = brp_plot[\"latitude\"], brp_plot[\"longitude\"]  # Center of the plot\n",
    "weatherdata = fpcup.weather.load_weather_data_NASAPower(coordinates)"
   ]
  },
  {
   "cell_type": "markdown",
   "id": "eed64494-8b48-4319-849e-622675776d39",
   "metadata": {},
   "source": [
    "We again combine the run data, now using the special BRP class, and run the model."
   ]
  },
  {
   "cell_type": "code",
   "execution_count": null,
   "id": "b03775c6-bfd3-44d4-adb9-9ea0962ccebd",
   "metadata": {},
   "outputs": [],
   "source": [
    "rundata = fpcup.model.RunDataBRP(brpdata=brp_plot, brpyear=year, soildata=soildata, weatherdata=weatherdata, agromanagement=agromanagement)\n",
    "output = fpcup.model.run_pcse_single(rundata)"
   ]
  },
  {
   "cell_type": "code",
   "execution_count": null,
   "id": "411fd77c-0ea7-4cd2-b566-79fb9826ce69",
   "metadata": {},
   "outputs": [],
   "source": [
    "output.summary"
   ]
  },
  {
   "cell_type": "markdown",
   "id": "f538daaf-37c8-4560-abd9-2aadd98b53dd",
   "metadata": {},
   "source": [
    "### Running a WOFOST ensemble across multiple locations"
   ]
  },
  {
   "cell_type": "markdown",
   "id": "59b61e9c-c00f-4927-8be5-889020da7fef",
   "metadata": {},
   "source": [
    "More interesting than a single WOFOST run is the ability to do multiple runs at the same time.\n",
    "This can be used to simulate multiple locations at the same time, such as different plots in the BRP or random sites within one province.\n",
    "In this example, we will run WOFOST for all barley-growing plots in the province of Zuid-Holland."
   ]
  },
  {
   "cell_type": "code",
   "execution_count": null,
   "id": "dbd7b6b3-7e94-4d0a-9938-149325f399c3",
   "metadata": {},
   "outputs": [],
   "source": [
    "# Setup BRP\n",
    "year = 2020\n",
    "brp = fpcup.io.load_brp(year)\n",
    "\n",
    "# Select plots\n",
    "crop_species = \"barley\"\n",
    "province = fpcup.geo.process_input_province(\"Zuid-Holland\")\n",
    "brp_plots = fpcup.io.query_brp(brp, province=province, crop_species=crop_species)\n",
    "brp_plots"
   ]
  },
  {
   "cell_type": "code",
   "execution_count": null,
   "id": "f03731b8-f650-4a40-b350-1134099b941e",
   "metadata": {},
   "outputs": [],
   "source": [
    "# Setup WOFOST\n",
    "crop = fpcup.crop.select_crop(crop_species)\n",
    "agromanagement = crop.agromanagement_first_sowingdate(year)  # First sowing date of the year\n",
    "\n",
    "soildata = fpcup.soil.soil_types[\"ec1\"]  # In the future, it will be possible to retrieve the soil type specific to each plot\n",
    "\n",
    "# Combine constants, variables\n",
    "constants = {\"agromanagement\": agromanagement, \"soildata\": soildata}"
   ]
  },
  {
   "cell_type": "markdown",
   "id": "fc1c2792-1680-40b6-82e8-1b97815f1c76",
   "metadata": {},
   "source": [
    "Rather than keeping all of the results in working memory, they are saved to files which can be accessed later.\n",
    "For this, we must also set up a directory."
   ]
  },
  {
   "cell_type": "code",
   "execution_count": null,
   "id": "7662330f-9df6-463f-b80e-a74ec4744de3",
   "metadata": {},
   "outputs": [],
   "source": [
    "# Setup output folder\n",
    "output_dir = fpcup.io.Path(\"outputs/demo/\")"
   ]
  },
  {
   "cell_type": "markdown",
   "id": "fa2adc5b-4620-46ca-89c0-65afcc0d994f",
   "metadata": {},
   "source": [
    "Now we can run WOFOST models for all sites.\n",
    "Please note that this can take a very long time depending on the number of sites; a progress bar will indicate progress as the models run."
   ]
  },
  {
   "cell_type": "code",
   "execution_count": null,
   "id": "3b29ab07-7d1d-4e99-90e3-c2c22e3ad563",
   "metadata": {},
   "outputs": [],
   "source": [
    "# Run WOFOST\n",
    "model_statuses = fpcup.model.run_pcse_brp_ensemble(brp_plots, year=year, run_data_constants=constants, output_dir=output_dir)"
   ]
  },
  {
   "cell_type": "markdown",
   "id": "9468b1b5-d2a3-4fd3-af94-b83ff6817bb8",
   "metadata": {},
   "source": [
    "Having saved the outputs to file, we can now load them again for inspection and analysis.\n",
    "Note that this will also load the outputs from any previous runs that were saved to the same directory.\n",
    "If there are a lot of files, this may take a while, as shown by the progress bar(s)."
   ]
  },
  {
   "cell_type": "code",
   "execution_count": null,
   "id": "a71cbf9a-9458-44b5-a803-089722ccaa1b",
   "metadata": {},
   "outputs": [],
   "source": [
    "summary = fpcup.io.load_combined_ensemble_summary_geo(output_dir)"
   ]
  },
  {
   "cell_type": "markdown",
   "id": "0eea4829-d284-4ffd-a649-8aeaaf4c2e81",
   "metadata": {},
   "source": [
    "Since we have multiple outputs, the tabulated summary becomes more interesting:"
   ]
  },
  {
   "cell_type": "code",
   "execution_count": null,
   "id": "61709ee2-cc30-41ef-bf6f-d781e3d1fda1",
   "metadata": {},
   "outputs": [],
   "source": [
    "summary"
   ]
  },
  {
   "cell_type": "markdown",
   "id": "91022e4a-ffcf-4ab4-9dca-90e41583a7ac",
   "metadata": {},
   "source": [
    "Additionally, we can plot the results in several ways.\n",
    "First, a general summary showing the distribution of some key outputs across the different runs, as histograms and geospatially.\n",
    "By default, the geospatial plots are aggregated to a hexagonal grid using Uber's H3 system."
   ]
  },
  {
   "cell_type": "code",
   "execution_count": null,
   "id": "e91a4803-e627-4a50-9ebf-c749870890fe",
   "metadata": {},
   "outputs": [],
   "source": [
    "fpcup.plotting.plot_wofost_summary(summary)"
   ]
  },
  {
   "cell_type": "markdown",
   "id": "6fb5d6ec-0bca-4118-892f-166759ca824e",
   "metadata": {},
   "source": [
    "This plot can also be made for a single province:"
   ]
  },
  {
   "cell_type": "code",
   "execution_count": null,
   "id": "1dafc5fc-a1b9-42b7-8936-1528f73f1cdd",
   "metadata": {},
   "outputs": [],
   "source": [
    "province = fpcup.geo.process_input_province(\"Zuid-Holland\") \n",
    "fpcup.plotting.plot_wofost_summary(summary, province=province)"
   ]
  },
  {
   "cell_type": "markdown",
   "id": "aeff2076-e851-43db-81e2-8eb501fdf68b",
   "metadata": {},
   "source": [
    "Alternatively, we can aggregate the results by province.\n",
    "Of course, if the previous cells were only run for a single province, then the aggregate statistics are not very interesting.\n",
    "Try running through this section several times, for different provinces, and see how the statistics fill up."
   ]
  },
  {
   "cell_type": "code",
   "execution_count": null,
   "id": "ce7cf38a-3d6f-4a5d-99a8-140762067cb1",
   "metadata": {},
   "outputs": [],
   "source": [
    "summary_byprovince = fpcup.aggregate.aggregate_province(summary)\n",
    "fpcup.plotting.plot_wofost_summary_byprovince(summary_byprovince)"
   ]
  },
  {
   "cell_type": "markdown",
   "id": "d5144658-0015-41af-8278-20da55694238",
   "metadata": {},
   "source": [
    "### Testing model sensitivity using WOFOST ensembles\n",
    "Ensembles can also be used to estimate the uncertainty in outputs by using different combinations of input parameters.\n",
    "Here, we will look at an example using one site and varying one parameter.\n",
    "First, we select a site from the BRP as before:"
   ]
  },
  {
   "cell_type": "code",
   "execution_count": null,
   "id": "37f25316-cc52-4f07-95ec-c443b855bc0d",
   "metadata": {},
   "outputs": [],
   "source": [
    "# Setup BRP\n",
    "year = 2020\n",
    "brp = fpcup.io.load_brp(year)\n",
    "index = 1  # Change this to any index in the BRP table. Try some values and see what happens!\n",
    "\n",
    "# Select plot\n",
    "brp_plot = brp.iloc[index]\n",
    "brp_plot"
   ]
  },
  {
   "cell_type": "markdown",
   "id": "524b52c2-3077-4890-b333-81aa53d4f467",
   "metadata": {},
   "source": [
    "Next, we set the parameters that we want to remain fixed:"
   ]
  },
  {
   "cell_type": "code",
   "execution_count": null,
   "id": "0e00e7d9-ff8e-4a1a-a090-7eeb8b16da54",
   "metadata": {},
   "outputs": [],
   "source": [
    "# Setup WOFOST\n",
    "crop_name = brp_plot[\"crop\"]\n",
    "crop = fpcup.crop.select_crop(crop_name)\n",
    "agromanagement = crop.agromanagement_first_sowingdate(year)  # First sowing date of the year\n",
    "\n",
    "soildata = fpcup.soil.soil_types[\"ec1\"]  # In the future, it will be possible to retrieve the soil type specific to this plot\n",
    "\n",
    "coordinates = brp_plot[\"latitude\"], brp_plot[\"longitude\"]  # Center of the plot\n",
    "weatherdata = fpcup.weather.load_weather_data_NASAPower(coordinates)\n",
    "\n",
    "# Combine constants\n",
    "constants = {\"agromanagement\": agromanagement, \"soildata\": soildata, \"weatherdata\": weatherdata, \"latitude\": coordinates[0], \"longitude\": coordinates[1]}"
   ]
  },
  {
   "cell_type": "markdown",
   "id": "20e6d8ed-1e48-4401-8d12-a9b0584d8de4",
   "metadata": {},
   "source": [
    "Now, we set the variable parameters.\n",
    "In this case, we will look at the effects of varying `WAV`, that is the initial amount of water in the rootable zone in excess of wilting point.\n",
    "WOFOST allows for `WAV` values between 0 and 50 cm, with a default of 10 cm (which was implicitly used in the previous runs).\n",
    "You can use the variable `n` to determine how many values of `WAV` will be used."
   ]
  },
  {
   "cell_type": "code",
   "execution_count": null,
   "id": "4cad40e5-3f5b-47d7-975c-25656b097d15",
   "metadata": {},
   "outputs": [],
   "source": [
    "n = 101  # Number of values to test\n",
    "variable_names = [\"WAV\"]\n",
    "combined_parameters = fpcup.parameters.generate_ensemble_space(*variable_names, n=n)\n",
    "variables = {\"override\": combined_parameters}\n",
    "variables = fpcup.tools.dict_product(variables)  # Pack the variables into one iterable of dictionaries\n",
    "\n",
    "# Setup output folder\n",
    "output_dir = fpcup.io.Path(\"outputs/demo/WAV/\")"
   ]
  },
  {
   "cell_type": "code",
   "execution_count": null,
   "id": "601b28b5-d506-4d3d-9ed3-5daa678373d0",
   "metadata": {},
   "outputs": [],
   "source": [
    "model_statuses = fpcup.model.run_pcse_ensemble(variables, output_dir, run_data_constants=constants)"
   ]
  },
  {
   "cell_type": "markdown",
   "id": "9de5a38c-064e-40a3-b3f6-9a30a4534fad",
   "metadata": {},
   "source": [
    "The outputs can be plotted as follows:"
   ]
  },
  {
   "cell_type": "code",
   "execution_count": null,
   "id": "1746ee07-998e-48f7-aa2d-14dd2c9933f5",
   "metadata": {},
   "outputs": [],
   "source": [
    "summary = fpcup.io.load_combined_ensemble_summary_geo(output_dir)\n",
    "fpcup.plotting.sensitivity_one_crop(summary, crop_name, variable_names[0])"
   ]
  },
  {
   "cell_type": "markdown",
   "id": "484c541f-4c15-4c52-b9ef-c5715f7cdd9a",
   "metadata": {},
   "source": [
    "#### Ensembles testing multiple parameters\n",
    "It is also possible to run an ensemble for multiple variables at the same time, although this exponentially increases the run time.\n",
    "Here, we will look at an example where both `WAV` (as before) and `RDMSOL` (the maximum rooting depth allowed by the soil) are varied at the same time.\n",
    "All other parameters are re-used from the previous cells."
   ]
  },
  {
   "cell_type": "code",
   "execution_count": null,
   "id": "860fbcc7-1316-4ac1-872b-3c9175626f57",
   "metadata": {},
   "outputs": [],
   "source": [
    "n = 51  # Number of values to test\n",
    "variable_names = [\"WAV\", \"RDMSOL\"]\n",
    "combined_parameters = fpcup.parameters.generate_ensemble_space(*variable_names, n=n)\n",
    "variables = {\"override\": combined_parameters}\n",
    "variables = fpcup.tools.dict_product(variables)  # Pack the variables into one iterable of dictionaries\n",
    "\n",
    "# Setup output folder\n",
    "output_dir = fpcup.io.Path(\"outputs/demo/RDMSOL-WAV/\")"
   ]
  },
  {
   "cell_type": "code",
   "execution_count": null,
   "id": "2d226a6f-2e25-45c8-83b2-0906e9a6370f",
   "metadata": {},
   "outputs": [],
   "source": [
    "model_statuses = fpcup.model.run_pcse_ensemble(variables, output_dir, run_data_constants=constants)"
   ]
  },
  {
   "cell_type": "markdown",
   "id": "7763a722-4088-428f-b927-c84da98f8662",
   "metadata": {},
   "source": [
    "#### Multiple sowing dates\n",
    "As an additional example, we can run WOFOST using fixed or variable parameters for multiple sowing dates, to see the effects this has on crop growth."
   ]
  },
  {
   "cell_type": "code",
   "execution_count": null,
   "id": "3415eb26-fa28-4e33-8916-20ae281dd865",
   "metadata": {},
   "outputs": [],
   "source": []
  }
 ],
 "metadata": {
  "kernelspec": {
   "display_name": "Python 3 (ipykernel)",
   "language": "python",
   "name": "python3"
  },
  "language_info": {
   "codemirror_mode": {
    "name": "ipython",
    "version": 3
   },
   "file_extension": ".py",
   "mimetype": "text/x-python",
   "name": "python",
   "nbconvert_exporter": "python",
   "pygments_lexer": "ipython3",
   "version": "3.11.6"
  }
 },
 "nbformat": 4,
 "nbformat_minor": 5
}
